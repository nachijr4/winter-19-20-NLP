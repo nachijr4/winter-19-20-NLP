{
 "cells": [
  {
   "cell_type": "code",
   "execution_count": 2,
   "metadata": {},
   "outputs": [],
   "source": [
    "# In this excercise a description about 3 successful people are take\n",
    "# the adjectives present in all the three descriptions are compared and check if there are \n",
    "# any comman adjectives that describes them\n",
    "import nltk\n",
    "from nltk.corpus import stopwords \n",
    "from nltk.tokenize import word_tokenize"
   ]
  },
  {
   "cell_type": "code",
   "execution_count": 3,
   "metadata": {},
   "outputs": [],
   "source": [
    "bill = '''Some see him as an innovative visionary who sparked a computer revolution. Others see him as a modern-day robber baron whose predatory practices have stifled competition in the software industry. Regardless of what his supporters and detractors may think, few can argue that Bill Gates is one of, if not the most successful entrepreneur of the 20th century. In just 25 years, he built a two-man operation into a multibillion-dollar colossus and made himself the richest man in the world. \n",
    "Yet he accomplished this feat not by inventing new technology, \n",
    "but by taking existing technology, adapting it to a specific market, \n",
    "and then dominating that market through innovative promotion and cunning business savvy.\n",
    "Gates' first exposure to computers came while he was attending the prestigious Lakeside School in Seattle. \n",
    "A local company offered the use of its computer to the school through a Teletype link, \n",
    "and young Gates became entranced by the possibilities of the primitive machine. \n",
    "Along with fellow student Paul Allen, he began ditching class to work in the school's computer room. \n",
    "Their work would soon pay off. When Gates was 16, he and Allen went into business together. \n",
    "The two teens netted $20,000 with Traf-O-Data, a program they developed to measure traffic flow in the Seattle area.'''"
   ]
  },
  {
   "cell_type": "code",
   "execution_count": 4,
   "metadata": {},
   "outputs": [],
   "source": [
    "jeff = '''In 1994, Jeff Bezos was already what many would consider extremely successful. \n",
    "The youngest-ever senior vice president at Wall Street investment banker D.E. Shaw & Co., \n",
    "the 30-year-old Bezos was already making an estimated six-figure salary and was destined to rise even further in the company ranks. \n",
    "But Jeff had other plans. Fueled by a secret passion for the infant business of electronic retailing, \n",
    "Jeff dreamed of creating his own company in the vast, then virtually uncharted wilds of the World Wide Web. \n",
    "It was a risky move, but it quickly paid off. \n",
    "Just four years after Bezos created Amazon.com, the virtual bookstore became the template for how e-commerce \n",
    "businesses should be run, with sales of more than $610 million and more than 13 million customers worldwide.\n",
    "Bezos first got the idea to start an Internet enterprise in 1994. \n",
    "While surfing the Internet in search of new ventures for D.E. Shaw & Co. to invest in, \n",
    "he came across the statistic that World Wide Web usage was growing by 2,300 percent a month. \n",
    "Bezos immediately recognized the expansive possibilities of selling online and began exploring \n",
    "the entrepreneurial possibilities of developing an Internet business.\n",
    "He drew up a list of 20 potential products he thought might sell well via the Internet, \n",
    "including software, CDs and books. After reviewing the list, books were the obvious choice, \n",
    "primarily because of the sheer number of titles in existence. Bezos realized that while even \n",
    "the largest superstores could stock only a few hundred thousand books, a mere fraction of what is available, a \n",
    "\"virtual\" bookstore could offer millions of titles. The die was cast. Bezos passed up a fat bonus,\n",
    "packed his wife, MacKenzie, and their dog, Kamala (named after an obscure \"Star Trek\" character), and headed for Seattle.'''"
   ]
  },
  {
   "cell_type": "code",
   "execution_count": 5,
   "metadata": {},
   "outputs": [],
   "source": [
    "steve = '''Steve Jobs' vision of a \"computer for the rest of us\" sparked the PC revolution and made Apple an icon of American business. But somewhere along the way, Jobs' vision got clouded -- some say by his ego -- and \n",
    "he was ousted from the company he helped found. Few will disagree that Jobs did indeed impede Apple's growth, \n",
    "yet without him, the company lost its sense of direction and pioneering spirit. After nearly 10 years of plummeting sales, \n",
    "Apple turned to its visionary founder for help, and a little older and wiser Jobs engineered one of the most amazing \n",
    "turnarounds of the 20th century.\n",
    "The adopted son of a Mountain View, Calif., machinist, Steve Jobs showed an early interest in electronics and gadgetry. \n",
    "While in high school, he boldly called Hewlett-Packard co-founder and president William Hewlett to ask for parts for a \n",
    "school project. Impressed by Jobs, Hewlett not only gave him the parts, but also offered him a summer internship at \n",
    "Hewlett-Packard. It was there that Jobs met and befriended Steve Wozniak, a young engineer five years his senior with a \n",
    "penchant for tinkering.\n",
    "After graduating from high school, Jobs enrolled in Reed College in Portland, Ore. \n",
    "but dropped out after one semester. He had become fascinated by Eastern spiritualism and took a \n",
    "part-time job designing video games for Atari in order to finance a trip to India to study Eastern culture and religion.'''"
   ]
  },
  {
   "cell_type": "code",
   "execution_count": 6,
   "metadata": {},
   "outputs": [],
   "source": [
    "# word tokenizing all the strings\n",
    "token_bill = [word for word in word_tokenize(bill) if word not in stopwords.words('english')]\n",
    "token_jeff = [word for word in word_tokenize(jeff) if word not in stopwords.words('english')]\n",
    "token_steve = [word for word in word_tokenize(steve) if word not in stopwords.words('english')]"
   ]
  },
  {
   "cell_type": "code",
   "execution_count": 12,
   "metadata": {},
   "outputs": [],
   "source": [
    "# pos tagging all the tokenized strings\n",
    "bill_pos = nltk.pos_tag(token_bill)\n",
    "jeff_pos = nltk.pos_tag(token_jeff)\n",
    "steve_pos = nltk.pos_tag(token_steve)\n",
    "\n",
    "adjectives = []"
   ]
  },
  {
   "cell_type": "code",
   "execution_count": 13,
   "metadata": {},
   "outputs": [],
   "source": [
    "# finding all the adjectives present in each edscription and adding it to adjecvives list\n",
    "for word, tag in bill_pos:\n",
    "    if tag == \"JJ\":\n",
    "        adjectives.append(word)\n",
    "        \n",
    "for word, tag in jeff_pos:\n",
    "    if tag == \"JJ\":\n",
    "        adjectives.append(word)\n",
    "        \n",
    "for word, tag in steve_pos:\n",
    "    if tag == \"JJ\":\n",
    "        adjectives.append(word)\n",
    "\n",
    "adjectives = set(adjectives)"
   ]
  },
  {
   "cell_type": "code",
   "execution_count": 14,
   "metadata": {},
   "outputs": [
    {
     "output_type": "execute_result",
     "data": {
      "text/plain": "{'20th',\n '30-year-old',\n 'Eastern',\n 'Few',\n 'Impressed',\n 'Regardless',\n 'accomplished',\n 'adopted',\n 'along',\n 'available',\n 'clouded',\n 'die',\n 'disagree',\n 'e-commerce',\n 'early',\n 'electronic',\n 'entranced',\n 'entrepreneurial',\n 'expansive',\n 'fat',\n 'fellow',\n 'first',\n 'high',\n 'icon',\n 'innovative',\n 'list',\n 'little',\n 'local',\n 'many',\n 'mere',\n 'modern-day',\n 'multibillion-dollar',\n 'new',\n 'obvious',\n 'part-time',\n 'penchant',\n 'percent',\n 'potential',\n 'prestigious',\n 'primitive',\n 'risky',\n 'secret',\n 'senior',\n 'sense',\n 'six-figure',\n 'specific',\n 'statistic',\n 'successful',\n 'template',\n 'two-man',\n 'uncharted',\n 'video',\n 'virtual',\n 'visionary',\n 'young',\n 'youngest-ever'}"
     },
     "metadata": {},
     "execution_count": 14
    }
   ],
   "source": [
    "adjectives"
   ]
  },
  {
   "cell_type": "code",
   "execution_count": 61,
   "metadata": {},
   "outputs": [],
   "source": [
    "common_adjectives = {}"
   ]
  },
  {
   "cell_type": "code",
   "execution_count": 62,
   "metadata": {},
   "outputs": [],
   "source": [
    "# creating a dictionary with the frequency of the adjectives in the respective descriptions\n",
    "for word in adjectives:\n",
    "#     if word in token_bill and word in token_jeff and word in token_steve:\n",
    "    common_adjectives[word] = {'bill':token_bill.count(word), \n",
    "                               'jeff':token_jeff.count(word), \n",
    "                               'steve':token_steve.count(word)}"
   ]
  },
  {
   "cell_type": "code",
   "execution_count": 63,
   "metadata": {},
   "outputs": [
    {
     "data": {
      "text/plain": [
       "{'clouded': {'bill': 0, 'jeff': 0, 'steve': 1},\n",
       " 'part-time': {'bill': 0, 'jeff': 0, 'steve': 1},\n",
       " 'mere': {'bill': 0, 'jeff': 1, 'steve': 0},\n",
       " 'uncharted': {'bill': 0, 'jeff': 1, 'steve': 0},\n",
       " 'senior': {'bill': 0, 'jeff': 1, 'steve': 1},\n",
       " 'expansive': {'bill': 0, 'jeff': 1, 'steve': 0},\n",
       " 'secret': {'bill': 0, 'jeff': 1, 'steve': 0},\n",
       " 'along': {'bill': 0, 'jeff': 0, 'steve': 1},\n",
       " '30-year-old': {'bill': 0, 'jeff': 1, 'steve': 0},\n",
       " 'multibillion-dollar': {'bill': 1, 'jeff': 0, 'steve': 0},\n",
       " 'fellow': {'bill': 1, 'jeff': 0, 'steve': 0},\n",
       " 'electronic': {'bill': 0, 'jeff': 1, 'steve': 0},\n",
       " 'entrepreneurial': {'bill': 0, 'jeff': 1, 'steve': 0},\n",
       " 'prestigious': {'bill': 1, 'jeff': 0, 'steve': 0},\n",
       " 'innovative': {'bill': 2, 'jeff': 0, 'steve': 0},\n",
       " 'icon': {'bill': 0, 'jeff': 0, 'steve': 1},\n",
       " 'new': {'bill': 1, 'jeff': 1, 'steve': 0},\n",
       " 'entranced': {'bill': 1, 'jeff': 0, 'steve': 0},\n",
       " 'available': {'bill': 0, 'jeff': 1, 'steve': 0},\n",
       " 'penchant': {'bill': 0, 'jeff': 0, 'steve': 1},\n",
       " 'adopted': {'bill': 0, 'jeff': 0, 'steve': 1},\n",
       " 'youngest-ever': {'bill': 0, 'jeff': 1, 'steve': 0},\n",
       " 'early': {'bill': 0, 'jeff': 0, 'steve': 1},\n",
       " 'Impressed': {'bill': 0, 'jeff': 0, 'steve': 1},\n",
       " 'local': {'bill': 1, 'jeff': 0, 'steve': 0},\n",
       " 'virtual': {'bill': 0, 'jeff': 2, 'steve': 0},\n",
       " 'e-commerce': {'bill': 0, 'jeff': 1, 'steve': 0},\n",
       " 'template': {'bill': 0, 'jeff': 1, 'steve': 0},\n",
       " 'list': {'bill': 0, 'jeff': 2, 'steve': 0},\n",
       " 'first': {'bill': 1, 'jeff': 1, 'steve': 0},\n",
       " 'many': {'bill': 0, 'jeff': 1, 'steve': 0},\n",
       " 'potential': {'bill': 0, 'jeff': 1, 'steve': 0},\n",
       " 'accomplished': {'bill': 1, 'jeff': 0, 'steve': 0},\n",
       " 'die': {'bill': 0, 'jeff': 1, 'steve': 0},\n",
       " 'Few': {'bill': 0, 'jeff': 0, 'steve': 1},\n",
       " 'risky': {'bill': 0, 'jeff': 1, 'steve': 0},\n",
       " 'little': {'bill': 0, 'jeff': 0, 'steve': 1},\n",
       " 'primitive': {'bill': 1, 'jeff': 0, 'steve': 0},\n",
       " 'percent': {'bill': 0, 'jeff': 1, 'steve': 0},\n",
       " 'video': {'bill': 0, 'jeff': 0, 'steve': 1},\n",
       " 'visionary': {'bill': 1, 'jeff': 0, 'steve': 1},\n",
       " 'specific': {'bill': 1, 'jeff': 0, 'steve': 0},\n",
       " 'two-man': {'bill': 1, 'jeff': 0, 'steve': 0},\n",
       " 'successful': {'bill': 1, 'jeff': 1, 'steve': 0},\n",
       " 'fat': {'bill': 0, 'jeff': 1, 'steve': 0},\n",
       " 'young': {'bill': 1, 'jeff': 0, 'steve': 1},\n",
       " 'obvious': {'bill': 0, 'jeff': 1, 'steve': 0},\n",
       " 'Regardless': {'bill': 1, 'jeff': 0, 'steve': 0},\n",
       " 'six-figure': {'bill': 0, 'jeff': 1, 'steve': 0},\n",
       " 'high': {'bill': 0, 'jeff': 0, 'steve': 2},\n",
       " '20th': {'bill': 1, 'jeff': 0, 'steve': 1},\n",
       " 'statistic': {'bill': 0, 'jeff': 1, 'steve': 0},\n",
       " 'modern-day': {'bill': 1, 'jeff': 0, 'steve': 0},\n",
       " 'disagree': {'bill': 0, 'jeff': 0, 'steve': 1},\n",
       " 'sense': {'bill': 0, 'jeff': 0, 'steve': 1},\n",
       " 'Eastern': {'bill': 0, 'jeff': 0, 'steve': 2}}"
      ]
     },
     "execution_count": 63,
     "metadata": {},
     "output_type": "execute_result"
    }
   ],
   "source": [
    "# printing the frequency dictionary to see common adjectives\n",
    "common_adjectives"
   ]
  }
 ],
 "metadata": {
  "kernelspec": {
   "display_name": "Python 3",
   "language": "python",
   "name": "python3"
  },
  "language_info": {
   "codemirror_mode": {
    "name": "ipython",
    "version": 3
   },
   "file_extension": ".py",
   "mimetype": "text/x-python",
   "name": "python",
   "nbconvert_exporter": "python",
   "pygments_lexer": "ipython3",
   "version": "3.7.4-final"
  }
 },
 "nbformat": 4,
 "nbformat_minor": 2
}