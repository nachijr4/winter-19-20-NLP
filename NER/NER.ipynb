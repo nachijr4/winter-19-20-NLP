{
 "cells": [
  {
   "cell_type": "code",
   "execution_count": 1,
   "metadata": {},
   "outputs": [],
   "source": [
    "# working with spacy \n",
    "!conda activate env_spacy"
   ]
  },
  {
   "cell_type": "code",
   "execution_count": 4,
   "metadata": {},
   "outputs": [
    {
     "name": "stdout",
     "output_type": "stream",
     "text": [
      "Collecting en_core_web_sm==2.1.0 from https://github.com/explosion/spacy-models/releases/download/en_core_web_sm-2.1.0/en_core_web_sm-2.1.0.tar.gz#egg=en_core_web_sm==2.1.0\n",
      "  Downloading https://github.com/explosion/spacy-models/releases/download/en_core_web_sm-2.1.0/en_core_web_sm-2.1.0.tar.gz (11.1MB)\n",
      "Building wheels for collected packages: en-core-web-sm\n",
      "  Building wheel for en-core-web-sm (setup.py): started\n",
      "  Building wheel for en-core-web-sm (setup.py): finished with status 'done'\n",
      "  Created wheel for en-core-web-sm: filename=en_core_web_sm-2.1.0-cp37-none-any.whl size=11074438 sha256=55897c76fa32791d4873d5403ec6396c18be94940bbaa99f6842e10c54b3f565\n",
      "  Stored in directory: C:\\Users\\nachi\\AppData\\Local\\Temp\\pip-ephem-wheel-cache-4vzi25cj\\wheels\\39\\ea\\3b\\507f7df78be8631a7a3d7090962194cf55bc1158572c0be77f\n",
      "Successfully built en-core-web-sm\n",
      "Installing collected packages: en-core-web-sm\n",
      "Successfully installed en-core-web-sm-2.1.0\n",
      "[+] Download and installation successful\n",
      "You can now load the model via spacy.load('en_core_web_sm')\n"
     ]
    }
   ],
   "source": [
    "!python -m spacy download en_core_web_sm"
   ]
  },
  {
   "cell_type": "code",
   "execution_count": 1,
   "metadata": {},
   "outputs": [],
   "source": [
    "import spacy\n",
    "\n",
    "model = spacy.load('en_core_web_sm')"
   ]
  },
  {
   "cell_type": "code",
   "execution_count": 2,
   "metadata": {},
   "outputs": [],
   "source": [
    "text = '''It began as the Computing, Tabulating & Recording Company (C-T-R) founded by Herman Hollerith in the late 1800s. Their first large contract was to provide tabulating equipment for the tabulation \n",
    "and analysis of the 1890 US census. \n",
    "The company grew quickly and, in the early 1920s the name was changed to IBM.'''"
   ]
  },
  {
   "cell_type": "code",
   "execution_count": 5,
   "metadata": {},
   "outputs": [
    {
     "output_type": "stream",
     "name": "stdout",
     "text": "Displaying Text, its part of speech, its lemma, its parent text and its relation with the parent\nItPRON-PRON-begannsubj\nbeganVERBbeginbeganROOT\nasADPasbeganprep\ntheDETtheCompanydet\nComputingPROPNComputingCompanynmod\n,PUNCT,Computingpunct\nTabulatingPROPNTabulatingComputingconj\n&CCONJ&Tabulatingcc\nRecordingPROPNRecordingTabulatingconj\nCompanyPROPNCompanyaspobj\n(PUNCT(Companypunct\nCPROPNCRcompound\n-PUNCT-Rpunct\nTNOUNtRcompound\n-PUNCT-Rpunct\nRPROPNRCompanyappos\n)PUNCT)Companypunct\nfoundedVERBfoundCompanyacl\nbyADPbyfoundedagent\nHermanPROPNHermanHollerithcompound\nHollerithPROPNHollerithbypobj\ninADPinfoundedprep\ntheDETthe1800sdet\nlateADJlate1800samod\n1800sNOUN1800inpobj\n.PUNCT.beganpunct\nTheirDET-PRON-contractposs\nfirstADJfirstcontractamod\nlargeADJlargecontractamod\ncontractNOUNcontractwasnsubj\nwasVERBbewasROOT\ntoPARTtoprovideaux\nprovideVERBprovidewasxcomp\ntabulatingVERBtabulateequipmentamod\nequipmentNOUNequipmentprovidedobj\nforADPforprovideprep\ntheDETthetabulationdet\ntabulationNOUNtabulationforpobj\n\nSPACE\ntabulation\nandCCONJandtabulationcc\nanalysisNOUNanalysistabulationconj\nofADPoftabulationprep\ntheDETthecensusdet\n1890NUM1890censusnummod\nUSPROPNUScensuscompound\ncensusNOUNcensusofpobj\n.PUNCT.waspunct\n\nSPACE\n.\nTheDETthecompanydet\ncompanyNOUNcompanygrewnsubj\ngrewVERBgrowgrewROOT\nquicklyADVquicklygrewadvmod\nandCCONJandgrewcc\n,PUNCT,grewpunct\ninADPinchangedprep\ntheDETthe1920sdet\nearlyADJearly1920samod\n1920sNUM1920sinpobj\ntheDETthenamedet\nnameNOUNnamechangednsubjpass\nwasVERBbechangedauxpass\nchangedVERBchangegrewconj\ntoADPtochangedprep\nIBMPROPNIBMtopobj\n.PUNCT.grewpunct\nDisplaying named entity of the work\nthe Computing, Tabulating & Recording Company1257ORG\nHerman Hollerith7793PERSON\nthe late 1800s97111DATE\nfirst119124ORDINAL\n1890216220DATE\nUS221223GPE\nIBM306309ORG\n"
    }
   ],
   "source": [
    "parsed_document = model(text)\n",
    "print(\"Displaying Text, its part of speech, its lemma, its parent text and its relation with the parent\")\n",
    "for word in parsed_document:\n",
    "    print(word.text, word.pos_, word.lemma_, word.head.text, word.dep_)\n",
    "print(\"Displaying named entity of the work\")\n",
    "for word in parsed_document.ents:\n",
    "    print(word.text, word.start_char, word.end_char,word.label_)"
   ]
  }
 ],
 "metadata": {
  "kernelspec": {
   "display_name": "Python 3",
   "language": "python",
   "name": "python3"
  },
  "language_info": {
   "codemirror_mode": {
    "name": "ipython",
    "version": 3
   },
   "file_extension": ".py",
   "mimetype": "text/x-python",
   "name": "python",
   "nbconvert_exporter": "python",
   "pygments_lexer": "ipython3",
   "version": "3.7.4-final"
  }
 },
 "nbformat": 4,
 "nbformat_minor": 2
}