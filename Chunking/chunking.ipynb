{
 "cells": [
  {
   "cell_type": "code",
   "execution_count": 2,
   "metadata": {},
   "outputs": [],
   "source": [
    "import nltk"
   ]
  },
  {
   "cell_type": "code",
   "execution_count": 32,
   "metadata": {},
   "outputs": [],
   "source": [
    "NG = 'NP: {<DT>?<JJ>*<NN>}'\n",
    "VG = 'Ph: {<VB>+<DT>?<NN>+}'"
   ]
  },
  {
   "cell_type": "code",
   "execution_count": 33,
   "metadata": {},
   "outputs": [],
   "source": [
    "s1=nltk.tokenize.word_tokenize(\"The company grew quickly and, in the early 1920s the name was changed to IBM\")\n",
    "s2=nltk.tokenize.word_tokenize('''Microsoft was founded by Bill Gates and Paul Allen on April 4, \n",
    "1975, to develop and sell BASIC interpreters for the Altair 8800.''')"
   ]
  },
  {
   "cell_type": "code",
   "execution_count": 34,
   "metadata": {},
   "outputs": [],
   "source": [
    "nounparser = nltk.RegexpParser(NG)\n",
    "verbparser = nltk.RegexpParser(VG)"
   ]
  },
  {
   "cell_type": "code",
   "execution_count": 35,
   "metadata": {},
   "outputs": [],
   "source": [
    "str1_pos = nltk.pos_tag(s1)\n",
    "str2_pos = nltk.pos_tag(s2)"
   ]
  },
  {
   "cell_type": "code",
   "execution_count": 36,
   "metadata": {},
   "outputs": [],
   "source": [
    "noun_chunk = nounparser.parse(str1_pos)\n",
    "verb_chunk = verbparser.parse(str2_pos)"
   ]
  },
  {
   "cell_type": "code",
   "execution_count": 37,
   "metadata": {},
   "outputs": [
    {
     "name": "stdout",
     "output_type": "stream",
     "text": [
      "(S\n",
      "  (NP The/DT company/NN)\n",
      "  grew/VBD\n",
      "  quickly/RB\n",
      "  and/CC\n",
      "  ,/,\n",
      "  in/IN\n",
      "  the/DT\n",
      "  early/JJ\n",
      "  1920s/CD\n",
      "  (NP the/DT name/NN)\n",
      "  was/VBD\n",
      "  changed/VBN\n",
      "  to/TO\n",
      "  IBM/NNP)\n",
      "(S\n",
      "  Microsoft/NNP\n",
      "  was/VBD\n",
      "  founded/VBN\n",
      "  by/IN\n",
      "  Bill/NNP\n",
      "  Gates/NNP\n",
      "  and/CC\n",
      "  Paul/NNP\n",
      "  Allen/NNP\n",
      "  on/IN\n",
      "  April/NNP\n",
      "  4/CD\n",
      "  ,/,\n",
      "  1975/CD\n",
      "  ,/,\n",
      "  to/TO\n",
      "  develop/VB\n",
      "  and/CC\n",
      "  sell/VB\n",
      "  BASIC/NNP\n",
      "  interpreters/NNS\n",
      "  for/IN\n",
      "  the/DT\n",
      "  Altair/NNP\n",
      "  8800/CD\n",
      "  ./.)\n"
     ]
    }
   ],
   "source": [
    "print(noun_chunk)\n",
    "print(verb_chunk)"
   ]
  },
  {
   "cell_type": "code",
   "execution_count": 38,
   "metadata": {},
   "outputs": [],
   "source": [
    "noun_chunk.draw()"
   ]
  },
  {
   "cell_type": "code",
   "execution_count": 39,
   "metadata": {},
   "outputs": [],
   "source": [
    "verb_chunk.draw()"
   ]
  },
  {
   "cell_type": "code",
   "execution_count": null,
   "metadata": {},
   "outputs": [],
   "source": []
  }
 ],
 "metadata": {
  "kernelspec": {
   "display_name": "Python 3",
   "language": "python",
   "name": "python3"
  },
  "language_info": {
   "codemirror_mode": {
    "name": "ipython",
    "version": 3
   },
   "file_extension": ".py",
   "mimetype": "text/x-python",
   "name": "python",
   "nbconvert_exporter": "python",
   "pygments_lexer": "ipython3",
   "version": "3.7.4"
  }
 },
 "nbformat": 4,
 "nbformat_minor": 2
}
